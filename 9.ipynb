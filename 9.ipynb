{
 "cells": [
  {
   "cell_type": "code",
   "execution_count": 1,
   "metadata": {},
   "outputs": [],
   "source": [
    "import SimpleGUICS2Pygame.simpleguics2pygame as simple\n"
   ]
  },
  {
   "cell_type": "code",
   "execution_count": 4,
   "metadata": {},
   "outputs": [],
   "source": [
    "def draw(canvas):\n",
    "    frame.set_canvas_background('yellow')\n",
    "    canvas.draw_polygon([(150,150),(250,150),(250,250),(150,250),],4,'aqua','blue')\n",
    "    canvas.draw_circle((100,100),50,4,'red','pink')\n",
    "    canvas.draw_circle((300,100),50,4,'green','lime')\n",
    "    canvas.draw_circle((300,300),50,4,'red','pink')\n",
    "    canvas.draw_circle((100,300),50,4,'green','lime')\n",
    "    canvas.draw_line((150,150),(100,100),4,'black')\n",
    "    canvas.draw_line((250,150),(300,100),4,'black')\n",
    "    canvas.draw_line((250,250),(300,300),4,'black')\n",
    "    canvas.draw_line((150,250),(100,300),4,'black')\n",
    "    canvas.draw_text(\"An example of drawing\",(100,370),20,'black')\n",
    "frame=simple.create_frame('my ipe',canvas_width=400,canvas_height=400)\n",
    "frame.set_draw_handler(draw)\n",
    "frame.start()"
   ]
  },
  {
   "cell_type": "code",
   "execution_count": null,
   "metadata": {},
   "outputs": [],
   "source": []
  }
 ],
 "metadata": {
  "kernelspec": {
   "display_name": "Python 3",
   "language": "python",
   "name": "python3"
  },
  "language_info": {
   "codemirror_mode": {
    "name": "ipython",
    "version": 3
   },
   "file_extension": ".py",
   "mimetype": "text/x-python",
   "name": "python",
   "nbconvert_exporter": "python",
   "pygments_lexer": "ipython3",
   "version": "3.10.5"
  },
  "orig_nbformat": 4
 },
 "nbformat": 4,
 "nbformat_minor": 2
}
