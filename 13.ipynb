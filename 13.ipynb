{
 "cells": [
  {
   "cell_type": "code",
   "execution_count": 15,
   "metadata": {},
   "outputs": [],
   "source": [
    "import SimpleGUICS2Pygame.simpleguics2pygame as simple\n",
    "bord=[['','',''],['','',''],['','','']]\n",
    "turn='X'\n",
    "c=1\n",
    "game=False\n",
    "def newgame():\n",
    "    global bord,turn,game,c\n",
    "    bord=[['','',''],['','',''],['','','']]\n",
    "    turn='X'\n",
    "    c=1\n",
    "    game = False\n"
   ]
  },
  {
   "cell_type": "code",
   "execution_count": 16,
   "metadata": {},
   "outputs": [],
   "source": [
    "def win_game():\n",
    "    for i in range(3):\n",
    "        if bord[i][0]!='' and bord[i][0] == bord [i][1] == bord[i][2]:\n",
    "            return True\n",
    "        if bord[0][i]!='' and bord[0][i] == bord [1][i] == bord[2][i]:\n",
    "            return True\n",
    "    if bord[0][0] != '' and bord[0][0] == bord[1][1] == bord[2][2]:\n",
    "        return True\n",
    "    elif bord[2][0] != '' and bord[2][0] == bord[1][1] == bord[0][2]:\n",
    "        return True\n",
    "    else:\n",
    "        return False\n",
    "def click(p):\n",
    "    global bord,game,turn,c\n",
    "    x=p[1]//100\n",
    "    y=p[0]//100\n",
    "    if not game:\n",
    "        if bord[x][y]=='':\n",
    "            bord[x][y]=turn\n",
    "            if win_game():\n",
    "                game=True\n",
    "                l1.set_text(f\"{turn} won\")\n",
    "            elif c==9:\n",
    "                l1.set_text(f\"game draw\")\n",
    "            else:\n",
    "                c+=1\n",
    "                if turn=='X':\n",
    "                    turn='O'\n",
    "                    l1.set_text(f'player:{turn}')\n",
    "                else:\n",
    "                    turn='X'\n",
    "                    l1.set_text(f'player:{turn}')\n",
    "                            \n",
    "\n",
    "            \n",
    "\n",
    "\n",
    "def draw(canvas):\n",
    "    for i in range(1,3):\n",
    "        canvas.draw_line((100*i,0),(100*i,300),3,'red')\n",
    "        canvas.draw_line((0,100*i),(300,100*i),3,'red')\n",
    "    for i in range(3):\n",
    "        for j in range(3):\n",
    "            canvas.draw_text(bord[i][j],(100*j+30,100*i+70),70,'red')\n",
    "frame=simple.create_frame('my app',canvas_height=300,canvas_width=300)\n",
    "frame.set_draw_handler(draw)\n",
    "frame.set_mouseclick_handler(click)\n",
    "frame.add_button('newgame',newgame)\n",
    "l1=frame.add_label(f'player:{turn}')\n",
    "frame.start()"
   ]
  },
  {
   "cell_type": "code",
   "execution_count": null,
   "metadata": {},
   "outputs": [],
   "source": []
  }
 ],
 "metadata": {
  "kernelspec": {
   "display_name": "Python 3",
   "language": "python",
   "name": "python3"
  },
  "language_info": {
   "codemirror_mode": {
    "name": "ipython",
    "version": 3
   },
   "file_extension": ".py",
   "mimetype": "text/x-python",
   "name": "python",
   "nbconvert_exporter": "python",
   "pygments_lexer": "ipython3",
   "version": "3.10.5"
  },
  "orig_nbformat": 4
 },
 "nbformat": 4,
 "nbformat_minor": 2
}
