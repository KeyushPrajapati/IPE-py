{
 "cells": [
  {
   "cell_type": "code",
   "execution_count": 12,
   "metadata": {},
   "outputs": [],
   "source": [
    "import SimpleGUICS2Pygame.simpleguics2pygame as simple\n",
    "body_show=False\n",
    "roof_show=False\n",
    "window_show =False"
   ]
  },
  {
   "cell_type": "code",
   "execution_count": 13,
   "metadata": {},
   "outputs": [],
   "source": [
    "def draw(canvas):\n",
    "    if body_show:\n",
    "        canvas.draw_polygon([(150,150),(250,150),(250,250),(150,250)],3,'red','blue')\n",
    "    if  roof_show and body_show:\n",
    "        canvas.draw_polygon([(150,150),(200,100),(250,150)],3,'red','green')\n",
    "    if  window_show and body_show:\n",
    "        canvas.draw_circle((200,200),15,3,'red','yellow')\n",
    "def roof_visible():\n",
    "    global roof_show\n",
    "    if roof_show:\n",
    "        roof_show =False\n",
    "    elif not body_show:\n",
    "        roof_show=False\n",
    "    \n",
    "    else:\n",
    "        roof_show=True\n",
    "def body_visible():\n",
    "    global body_show, window_show,roof_show\n",
    "    if body_show:\n",
    "        body_show =False\n",
    "        roof_show = False\n",
    "        window_show = False\n",
    "    else:\n",
    "        body_show=True\n",
    "def window_visible():\n",
    "    global window_show\n",
    "    if window_show:\n",
    "        window_show =False\n",
    "    elif not body_show:\n",
    "        window_show = False\n",
    "    else:\n",
    "        window_show=True"
   ]
  },
  {
   "cell_type": "code",
   "execution_count": null,
   "metadata": {},
   "outputs": [],
   "source": []
  },
  {
   "cell_type": "code",
   "execution_count": 14,
   "metadata": {},
   "outputs": [],
   "source": [
    "frame=simple.create_frame('my project',canvas_height=400,canvas_width=400)\n",
    "frame.set_draw_handler(draw)\n",
    "frame.add_button('roof_visible',roof_visible)\n",
    "frame.add_button('body_visible',body_visible)\n",
    "frame.add_button('windnow_visible',window_visible)\n",
    "frame.start()"
   ]
  },
  {
   "cell_type": "code",
   "execution_count": null,
   "metadata": {},
   "outputs": [],
   "source": []
  }
 ],
 "metadata": {
  "kernelspec": {
   "display_name": "Python 3",
   "language": "python",
   "name": "python3"
  },
  "language_info": {
   "codemirror_mode": {
    "name": "ipython",
    "version": 3
   },
   "file_extension": ".py",
   "mimetype": "text/x-python",
   "name": "python",
   "nbconvert_exporter": "python",
   "pygments_lexer": "ipython3",
   "version": "3.10.5"
  },
  "orig_nbformat": 4
 },
 "nbformat": 4,
 "nbformat_minor": 2
}
