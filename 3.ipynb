{
 "cells": [
  {
   "cell_type": "code",
   "execution_count": 7,
   "metadata": {},
   "outputs": [
    {
     "name": "stdout",
     "output_type": "stream",
     "text": [
      "false\n"
     ]
    }
   ],
   "source": [
    "import re\n",
    "\n",
    "pattern=r'^[a-zA-Z0-9\\._%+-/*!\\-]+@([a-zA-Z\\-]+)(\\.[A-Za-z]{2,3})$'\n",
    "email='divyesh@gmail.com'\n",
    "if(re.match(pattern,email)):\n",
    "    print('true')\n",
    "else:\n",
    "    print('false')\n",
    "\n"
   ]
  },
  {
   "cell_type": "code",
   "execution_count": 76,
   "metadata": {},
   "outputs": [
    {
     "name": "stdout",
     "output_type": "stream",
     "text": [
      "True\n"
     ]
    }
   ],
   "source": [
    "password =input('enter pasword')\n",
    "rs=r'^(?=.*[A-Z]+)(?=.*[a-z]+)(?=.*[0-9])+(?=.*[!@#$%^&*_]+).{8,16}$'\n",
    "if re.match(rs,password):\n",
    "    print('True')\n"
   ]
  },
  {
   "cell_type": "code",
   "execution_count": 57,
   "metadata": {},
   "outputs": [
    {
     "name": "stdout",
     "output_type": "stream",
     "text": [
      "true\n"
     ]
    }
   ],
   "source": [
    "constent=input()\n",
    "mobile = r'(\\+\\d{1,2}\\s?|\\+\\d{1,2}-)?(\\d{10}|\\d{2}-\\d{8}|\\d{3}-\\d{7})'\n",
    "if re.match(mobile,constent):\n",
    "    print(\"true\")\n",
    "else:\n",
    "    print('false')\n"
   ]
  },
  {
   "cell_type": "code",
   "execution_count": null,
   "metadata": {},
   "outputs": [],
   "source": []
  }
 ],
 "metadata": {
  "kernelspec": {
   "display_name": "Python 3",
   "language": "python",
   "name": "python3"
  },
  "language_info": {
   "codemirror_mode": {
    "name": "ipython",
    "version": 3
   },
   "file_extension": ".py",
   "mimetype": "text/x-python",
   "name": "python",
   "nbconvert_exporter": "python",
   "pygments_lexer": "ipython3",
   "version": "3.10.5"
  },
  "orig_nbformat": 4
 },
 "nbformat": 4,
 "nbformat_minor": 2
}
