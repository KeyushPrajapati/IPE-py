{
 "cells": [
  {
   "cell_type": "code",
   "execution_count": 1,
   "metadata": {},
   "outputs": [],
   "source": [
    "import SimpleGUICS2Pygame.simpleguics2pygame as simpale\n",
    "import random\n",
    "dack = [i for i in range(0, 8)]*2\n",
    "random.shuffle(dack)\n",
    "exposed = [False]*16\n",
    "score = 0\n",
    "state=0\n",
    "c_index1,c_index2=-1,-1\n",
    "def new_game():\n",
    "    global exposed, dack, state, c_index1, c_index2, score\n",
    "    random.shuffle(dack)\n",
    "    exposed=[False]*16\n",
    "    state = 0\n",
    "    score=0\n",
    "    c_index1, c_index2 = -1, -1\n"
   ]
  },
  {
   "cell_type": "code",
   "execution_count": 2,
   "metadata": {},
   "outputs": [],
   "source": [
    "def click(p):\n",
    "    global exposed,dack,state,c_index1,c_index2 ,score\n",
    "    x=p[0]//50\n",
    "    if exposed[x]==False:\n",
    "        if  state==0:\n",
    "            c_index1=x\n",
    "            exposed[x]=True\n",
    "            state=1\n",
    "        elif state==1:\n",
    "            c_index2=x\n",
    "            exposed[x]=True\n",
    "            if dack[c_index1] == dack[c_index2]:\n",
    "                score+=1\n",
    "            state=2\n",
    "        elif state==2:\n",
    "            if dack[c_index1]!=dack[c_index2]:\n",
    "                exposed[c_index1],exposed[c_index2]=False,False\n",
    "                c_index1=-1\n",
    "                c_index2=-1\n",
    "            c_index1=x\n",
    "            exposed[x]=True\n",
    "            state=1\n",
    "          \n",
    "\n",
    "def draw(canvas):\n",
    "    global exposed,dack\n",
    "    for i in range(0,16):\n",
    "        if i!=0:        \n",
    "            canvas.draw_line((50*i,0),(50*i,100),3,'red')\n",
    "        if exposed[i]==True:\n",
    "            canvas.draw_text(str(dack[i]),(i*50+15,60),50,'red')\n",
    "\n",
    "\n",
    "frame=simpale.create_frame('game', canvas_height=100 ,canvas_width=800)\n",
    "frame.add_button('newgame',new_game)\n",
    "frame.add_button('reset',new_game)\n",
    "frame.set_mouseclick_handler(click)\n",
    "frame.set_draw_handler(draw)\n",
    "frame.start()"
   ]
  },
  {
   "cell_type": "code",
   "execution_count": null,
   "metadata": {},
   "outputs": [],
   "source": []
  }
 ],
 "metadata": {
  "kernelspec": {
   "display_name": "Python 3",
   "language": "python",
   "name": "python3"
  },
  "language_info": {
   "codemirror_mode": {
    "name": "ipython",
    "version": 3
   },
   "file_extension": ".py",
   "mimetype": "text/x-python",
   "name": "python",
   "nbconvert_exporter": "python",
   "pygments_lexer": "ipython3",
   "version": "3.10.5"
  },
  "orig_nbformat": 4
 },
 "nbformat": 4,
 "nbformat_minor": 2
}
