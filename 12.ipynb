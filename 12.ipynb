{
 "cells": [
  {
   "cell_type": "code",
   "execution_count": 1,
   "metadata": {},
   "outputs": [],
   "source": [
    "import SimpleGUICS2Pygame.simpleguics2pygame as simaple\n",
    "import random"
   ]
  },
  {
   "cell_type": "code",
   "execution_count": 2,
   "metadata": {},
   "outputs": [],
   "source": [
    "circle = [(random.randint(20, 380), random.randint(20, 380)) for i in range(10)]\n",
    "square = [(random.randint(20, 380), random.randint(20, 380)) for i in range(10)]\n",
    "triangle = [(random.randint(20, 380), random.randint(20, 380)) for i in range(10)]\n",
    "circles=False\n",
    "squares=False\n",
    "triangles=False\n",
    "def addcircle():\n",
    "    global circles\n",
    "    if circles:\n",
    "        circles=False\n",
    "    else:\n",
    "        circles = True\n",
    "\n",
    "\n",
    "def addsquare():\n",
    "    global squares\n",
    "    if squares:\n",
    "        squares = False\n",
    "    else:\n",
    "        squares = True\n",
    "\n",
    "\n",
    "def addtriangle():\n",
    "    global triangles\n",
    "    if triangles:\n",
    "        triangles=False\n",
    "    else:\n",
    "        triangles = True\n",
    "def tick():\n",
    "    global circle,square,triangle\n",
    "    circle=[(random.randint(20,380),random.randint(20,380))for i in range(10)]\n",
    "    square=[(random.randint(70,330),random.randint(20,330)) for i in range(10)]\n",
    "    triangle=[(random.randint(20,330),random.randint(20,330)) for i in range(10)]\n",
    "def draw(canvas):\n",
    "    if circles:\n",
    "        for i in range(10):\n",
    "            canvas.draw_circle(\n",
    "                circle[i], 10, 2, f'rgb({random.randint(0,250)},{random.randint(0,255)},{random.randint(0,255)})', f'rgb({random.randint(0,250)},{random.randint(0,255)},{random.randint(0,255)})')\n",
    "    if squares:\n",
    "        for i in range(10):\n",
    "            canvas.draw_polygon([square[i], (square[i][0]+50, square[i][1]), (square[i][0]+50, square[i][1]+50), (square[i][0], square[i][1]+50)], 2,\n",
    "                                f'rgb({random.randint(0,250)},{random.randint(0,255)},{random.randint(0,255)})', f'rgb({random.randint(0,250)},{random.randint(0,255)},{random.randint(0,255)})')\n",
    "    if triangles:\n",
    "        for i in range(10):\n",
    "            canvas.draw_polygon([triangle[i], (triangle[i][0]+25, triangle[i][1]-25), (triangle[i][0]+50, triangle[i][1]+50)], 2,\n",
    "                                f'rgb({random.randint(0,250)},{random.randint(0,255)},{random.randint(0,255)})', f'rgb({random.randint(0,250)},{random.randint(0,255)},{random.randint(0,255)})')\n",
    "frame=simaple.create_frame('my frame',canvas_height=400,canvas_width=400)\n",
    "timer=simaple.create_timer(1000,tick)\n",
    "timer.start()\n",
    "frame.set_draw_handler(draw)\n",
    "frame.add_button('circle',addcircle)\n",
    "frame.add_button('square',addsquare)\n",
    "frame.add_button('triangle',addtriangle)\n",
    "frame.start()"
   ]
  },
  {
   "cell_type": "code",
   "execution_count": null,
   "metadata": {},
   "outputs": [],
   "source": []
  }
 ],
 "metadata": {
  "kernelspec": {
   "display_name": "Python 3",
   "language": "python",
   "name": "python3"
  },
  "language_info": {
   "codemirror_mode": {
    "name": "ipython",
    "version": 3
   },
   "file_extension": ".py",
   "mimetype": "text/x-python",
   "name": "python",
   "nbconvert_exporter": "python",
   "pygments_lexer": "ipython3",
   "version": "3.10.5"
  },
  "orig_nbformat": 4
 },
 "nbformat": 4,
 "nbformat_minor": 2
}
