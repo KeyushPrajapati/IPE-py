{
 "cells": [
  {
   "cell_type": "code",
   "execution_count": 14,
   "metadata": {},
   "outputs": [],
   "source": [
    "import SimpleGUICS2Pygame.simpleguics2pygame as simple\n",
    "shapes = [\"Square\", \"Circle\", \"Triangle\"]\n",
    "colors = [\"DeepPink\", \"Red\", \"DarkOrange\", \"Yellow\", \"Lime\", \"Green\", \"Blue\", \"Aqua\", \"Purple\", \"Magenta\"]\n",
    "size=10\n",
    "s_index=1\n",
    "c_index=4\n",
    "fill=False\n",
    "x=200//2\n",
    "y=200//2"
   ]
  },
  {
   "cell_type": "code",
   "execution_count": 16,
   "metadata": {},
   "outputs": [],
   "source": [
    "def keydownclick(key):\n",
    "    global fill,s_index,c_index,size\n",
    "    if simple.KEY_MAP['d']==key:\n",
    "        if s_index < len(shapes)-1:\n",
    "            s_index+=1\n",
    "    if simple.KEY_MAP['a'] == key:\n",
    "        if s_index>0:\n",
    "            s_index -= 1\n",
    "    if simple.KEY_MAP['c'] == key:\n",
    "        if c_index<len(colors)-1:\n",
    "            c_index+=1\n",
    "    if simple.KEY_MAP['v'] == key:\n",
    "        if c_index>0:\n",
    "            c_index -= 1\n",
    "    if simple.KEY_MAP['f']==key:\n",
    "        if fill:\n",
    "            fill=False\n",
    "        else :\n",
    "            fill=True\n",
    "    if simple.KEY_MAP['x']==key:\n",
    "        if size<90:\n",
    "            size+=10\n",
    "    if simple.KEY_MAP['z'] == key:\n",
    "        if size>10:\n",
    "            size-=10\n",
    "            \n",
    "def draw(canvas):\n",
    "    if shapes[s_index] == \"Square\":\n",
    "        if fill:\n",
    "            canvas.draw_polygon([(x-size,y-size),(x+size,y-size), (x+size, y+size), (x-size, y+size)],3,\n",
    "                                'white',colors[c_index])\n",
    "        else:\n",
    "            canvas.draw_polygon([(x-size, y-size), (x+size, y-size), (x+size, y+size), (x-size, y+size)], 3,\n",
    "                                'white')\n",
    "    if shapes[s_index] == \"Circle\":\n",
    "        if fill:\n",
    "            canvas.draw_circle((x, y),size,3,'white',colors[c_index])\n",
    "        else:\n",
    "            canvas.draw_circle((x, y), size, 3, 'white')\n",
    "    if shapes[s_index]=='Triangle':\n",
    "        if fill:\n",
    "            canvas.draw_polygon([(x-size, y+size), (x+size, y+size), (x, y-size)], 3,\n",
    "                                'white', colors[c_index])\n",
    "        else:\n",
    "            canvas.draw_polygon([(x-size, y+size), (x+size, y+size), (x, y-size)], 3,\n",
    "                                'white')\n",
    "\n",
    "frame = simple.create_frame('myapp',canvas_width= 200, canvas_height= 200)\n",
    "frame.set_draw_handler(draw)\n",
    "frame.set_keydown_handler(keydownclick)\n",
    "frame.start()\n"
   ]
  },
  {
   "cell_type": "code",
   "execution_count": null,
   "metadata": {},
   "outputs": [],
   "source": []
  }
 ],
 "metadata": {
  "kernelspec": {
   "display_name": "Python 3",
   "language": "python",
   "name": "python3"
  },
  "language_info": {
   "codemirror_mode": {
    "name": "ipython",
    "version": 3
   },
   "file_extension": ".py",
   "mimetype": "text/x-python",
   "name": "python",
   "nbconvert_exporter": "python",
   "pygments_lexer": "ipython3",
   "version": "3.10.5"
  },
  "orig_nbformat": 4
 },
 "nbformat": 4,
 "nbformat_minor": 2
}
